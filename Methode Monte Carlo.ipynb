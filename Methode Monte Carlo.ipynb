{
 "cells": [
  {
   "cell_type": "markdown",
   "metadata": {},
   "source": [
    "<center> Auteur : Florence Raffin / Date : Avril 2020 <img src=\"cc.jpg\" width=\"10%\"/> "
   ]
  },
  {
   "cell_type": "markdown",
   "metadata": {
    "colab_type": "text",
    "id": "z9m1HAbcPjyL"
   },
   "source": [
    "# Qu'est ce qu'un Notebook Jupyter ?\n",
    "\n",
    "Vous pouvez passer cette étape si vous savez ce qu'est un Notebbok Jupyter.\n",
    "\n",
    "Le document que vous consultez est un notebook Jupyter. \n",
    "Il ne s'agit pas d'une page statique, mais d'un environnement interactif qui vous permet d'écrire et d'exécuter du code en Python ou dans un autre langage.\n",
    "\n",
    "Voici par exemple ci-dessous une cellule de code. Elle se reconnait car elle est sur fond gris avec une indication Entrée ou In sur le côté gauche. \n",
    "A l'intérieur il y a un bref script en Python qui calcule une valeur, l'enregistre dans une variable (duree) et imprime (affiche) le résultat."
   ]
  },
  {
   "cell_type": "code",
   "execution_count": 0,
   "metadata": {
    "colab": {},
    "colab_type": "code",
    "id": "ZaXW03XhPznT"
   },
   "outputs": [],
   "source": [
    "duree = 24*60\n",
    "print (\"il y a\",duree,\"minutes dans une journée\")"
   ]
  },
  {
   "cell_type": "markdown",
   "metadata": {},
   "source": [
    "<div class=\"alert alert-warning\">\n",
    "<b>Travail à faire : </b> Exécuter le code de la cellule ci-dessus, pour cela sélectionner-le en cliquant sur la cellule, puis cliquer sur le bouton Run (ou Exécuter) en haut de la page ou bien en cliquant sur la flèche à côté de In (ou Entrée) si vous êtes sur tablette ou smartphone\n",
    "</div>\n",
    "\n",
    "<div class=\"alert alert-warning\">\n",
    "<b>Travail à faire : </b> Vous pouvez maintenant modifer ce code : changer le calcul et/ou le texte. Par exemple, calculer le nombre de secondes dans une journée. Exécuter alors le nouveau le code, et visualiser le résultat. Si un message d'erreur s'affiche, chercher l'erreur, modifier puis exécuter jusqu'à obtenir ce que vous souhaitez.\n",
    "</div>"
   ]
  },
  {
   "cell_type": "markdown",
   "metadata": {
    "colab_type": "text",
    "id": "lDFM3LoEfRIm"
   },
   "source": [
    "Maintenant que vous avez compris ce qu'est un fichier Jupyter Notebook, nous allons travailler sur un code python illustrant la méthode de Monte carlo de détermination d'une incertitude."
   ]
  },
  {
   "cell_type": "markdown",
   "metadata": {
    "colab_type": "text",
    "id": "CecKkvEkPViI"
   },
   "source": [
    "# La méthode monte carlo : \n",
    "Cette méthode nous permet de simuler un processus aléatoire pour déterminer la valeur d'une grandeur avec des incertitudes-types composées.\n",
    "\n",
    "Nous allons appliquer cette méthode sur un titrage."
   ]
  },
  {
   "cell_type": "markdown",
   "metadata": {},
   "source": [
    " <img src=\"titrage.jpg\" alt=\"photo\" width=\"30%\"/> "
   ]
  },
  {
   "cell_type": "markdown",
   "metadata": {},
   "source": [
    "L'équation de la réaction de titrage acide-base est :\n",
    "\n",
    "<center> ${ H }_{ 3 }{ O }^{ + }\\quad +\\quad H{ O }^{ - }\\rightarrow \\quad 2\\quad { H }_{ 2 }O$\n",
    "\n",
    "A l'équivalence on a : ${ c }_{ a }=\\frac { { c }_{ b }\\times { V }_{ E } }{ { V }_{ a } } $     \n",
    "\n",
    "On mesure ${ V }_{ E }=16,7mL$ \n",
    "On peut donc calculer la valeur de ca pour cette mesure unique : ${ c }_{ a }=167,0 mmol/L$\n",
    "\n",
    "\n",
    "**Données :** \n",
    "\n",
    "* ${ c }_{ b }=100,0mmol/L$  à 0,5% près soit $u({ c }_{ b })=0,5mmol/L$ \n",
    "\n",
    "* ${ V }_{ a }=10,00mL$  avec $U({ V }_{ a })=0,02mL$ \n",
    "\n",
    "* ${ V }_{ E }=16,7mL$  avec $u({ V }_{ E })=0,2mL$ \n",
    "\n",
    "## **L'objectif est d'utiliser un code python nous permettant  de déterminer l'incertitude de ca sans utiliser de formule de composition des incertitudes.**"
   ]
  },
  {
   "cell_type": "markdown",
   "metadata": {
    "colab_type": "text",
    "id": "-rF-OPWvPViO"
   },
   "source": [
    "<div class=\"alert alert-warning\">\n",
    "<b>Travail à faire : </b> Compléter le code ci-dessous pour faire afficher les 3 valeurs des incertitudes associées aux grandeurs.\n",
    "</div>\n",
    "<details>\n",
    "<summary>Aide</summary>\n",
    "<p>Va[0] est le 1er élément de la liste </p>\n",
    "</details>"
   ]
  },
  {
   "cell_type": "code",
   "execution_count": 0,
   "metadata": {
    "colab": {},
    "colab_type": "code",
    "id": "vfDIWW0XPViQ"
   },
   "outputs": [],
   "source": [
    "#Pour chaque grandeur on définit une liste : le 1er élément est sa valeur et le 2ème élément est son incertitude\n",
    "Va=[10.00e-3,0.02e-3]\n",
    "cb=[0.1000,0.0005]\n",
    "VE=[16.7e-3,0.2e-3]\n",
    "\n",
    "print (---A compléter---)"
   ]
  },
  {
   "cell_type": "markdown",
   "metadata": {
    "colab_type": "text",
    "id": "sXU1tAhVPViY"
   },
   "source": [
    "\n",
    "<div class=\"alert alert-warning\">\n",
    "<b>Travail à faire : </b> On souhaite obtenir 3 valeurs de Va choisies aléatoirement dans son intervalle de confiance.Compléter le code ci-dessous pour faire afficher une valeur de Va dans son intervalle. L'éxecuter plusieurs fois afin de vérifier que vous n'avez pas toujours le même résultat.\n",
    "</div>\n",
    "\n",
    "<details>\n",
    "<summary>Aide</summary>\n",
    "<p>La fonction Alea(L) est défini. Il faut appeler la fonction Alea pour la variable Va.  </p>\n",
    "</details>"
   ]
  },
  {
   "cell_type": "code",
   "execution_count": 0,
   "metadata": {
    "colab": {},
    "colab_type": "code",
    "id": "q1O4ZBVCPViZ"
   },
   "outputs": [],
   "source": [
    "\"\"\"\n",
    "Fonction générant la valeur d'une grandeur dans son intervalle de confiance\n",
    "Entrées : le nom de la liste associée à chaque grandeur\n",
    "Résultat : valeur de la grandeur\n",
    "\"\"\"\n",
    "import numpy as np\n",
    "def Alea(L):\n",
    "    tirage=np.random.normal() #Tire au sort un chiffre entre 0 et 1\n",
    "    return L[0]+L[1]*tirage\n",
    "\n",
    "print(---A compléter---)"
   ]
  },
  {
   "cell_type": "markdown",
   "metadata": {
    "colab_type": "text",
    "id": "JlfsehMNPVif"
   },
   "source": [
    "<div class=\"alert alert-warning\">\n",
    "<b>Travail à faire : </b> Compléter le code ci-dessous pour qu'il affiche 3 valeurs de Va automatiquement\n",
    "</div>\n",
    "\n",
    "<details>\n",
    "<summary>Aide</summary>\n",
    "<p>La boucle doit être réalisée 3 fois. i commence à 0 </p>\n",
    "</details>"
   ]
  },
  {
   "cell_type": "code",
   "execution_count": 0,
   "metadata": {
    "colab": {},
    "colab_type": "code",
    "id": "-Wxvrb71PVih"
   },
   "outputs": [],
   "source": [
    "n=---Acompléter---\n",
    "AVa=[] #création d'une liste AVa vide\n",
    "for i in range (n):\n",
    "    AVa.append(Alea(Va)) # Calcul d'une valeur de Va dans son intervalle et ajout dans la liste Ava\n",
    "                    \n",
    "print('3 valeurs de Va :',AVa)"
   ]
  },
  {
   "cell_type": "markdown",
   "metadata": {
    "colab_type": "text",
    "id": "cW9VDQobPVim"
   },
   "source": [
    "<div class=\"alert alert-warning\">\n",
    "<b>Travail à faire : </b> On veut calculer 20 fois (pour simuler 20 groupes de TP) la valeur de la concentration ca, en utilisant des valeurs de cb, Va et VE choisies aléatoirement dans leur intervalle. Compléter le code ci-dessous.\n",
    "</div>\n",
    "<details>\n",
    "<summary>Aide</summary>\n",
    "<p>Dans le calcul de ca, chaque grandeur doit-être tirée au sort. </p>\n",
    "</details>"
   ]
  },
  {
   "cell_type": "code",
   "execution_count": 0,
   "metadata": {
    "colab": {},
    "colab_type": "code",
    "id": "O75yyhD6PVio"
   },
   "outputs": [],
   "source": [
    "n=20\n",
    "Aca=[]\n",
    "for i in range (n) :\n",
    "    Aca.append(---A compléter---)\n",
    "print ('les',n,' valeurs de ca sont : ',Aca)"
   ]
  },
  {
   "cell_type": "markdown",
   "metadata": {
    "colab_type": "text",
    "id": "04s4SCc5TDwE"
   },
   "source": [
    "<div class=\"alert alert-warning\">\n",
    "<b>Travail à faire : </b> On calcule ensuite la moyenne de la concentration de ca obtenue ainsi que l'écart-type de la simulation de série de mesures. L'incertitude  associée à la mesure unique de ca est l'écart-type.\n",
    "Executer le code ci-dessous\n",
    "</div>"
   ]
  },
  {
   "cell_type": "code",
   "execution_count": 0,
   "metadata": {
    "colab": {},
    "colab_type": "code",
    "id": "tChuXRJ3PViw"
   },
   "outputs": [],
   "source": [
    "moyca=sum(Aca)/n # calcul de la moyenne\n",
    "uca=(1/(n-1)*sum((np.array(Aca)-moyca)**2))**0.5 #calcul de l'écart-type\n",
    "print(\"L'incertitude-type de ca est\",uca)"
   ]
  },
  {
   "cell_type": "markdown",
   "metadata": {
    "colab_type": "text",
    "id": "ImL7HZDJPVi1"
   },
   "source": [
    "<div class=\"alert alert-warning\">\n",
    "<b>Travail à faire : </b> Il faut maintenant tracer l'histogramme. Executer le code ci-dessous.\n",
    "</div>"
   ]
  },
  {
   "cell_type": "code",
   "execution_count": 0,
   "metadata": {
    "colab": {},
    "colab_type": "code",
    "id": "oslF7tu5PVi2"
   },
   "outputs": [],
   "source": [
    "from matplotlib import pyplot as plt\n",
    "plt.hist(Aca, bins = 50, color = 'blue', edgecolor = 'black')     # bins indique le nombre d'intervalles, cad de valeurs différentes prises par Ca\n",
    "plt.xlabel('ca')\n",
    "plt.ylabel('effectif')\n",
    "plt.title('mesures')\n",
    "plt.show()"
   ]
  },
  {
   "cell_type": "markdown",
   "metadata": {
    "colab_type": "text",
    "id": "B0SHxomQPVi7"
   },
   "source": [
    "<div class=\"alert alert-warning\">\n",
    "<b>Travail à faire : </b> Changer maintenant le nombre n de mesures dans la cellule de code appropriée et executer les 3 codes pour déterminer la nouvelle valeur de l'incertitude-type et le nouveau graphique.\n",
    "</div>\n",
    "<details>\n",
    "<summary>Aide</summary>\n",
    "<p>Il faut changer la valeur de n dans la cellule du code qui calcule les valeurs de ca. Executer ensuite le code du calcul de la moyenne et de l'incertitude ainsi que l'histogramme </p>\n",
    "</details>"
   ]
  },
  {
   "cell_type": "markdown",
   "metadata": {},
   "source": [
    "<div class=\"alert alert-warning\">\n",
    "<b>Travail à faire : </b>  Vous pouvez maintenant créer ci-dessous un code qui permet de donner le résultat de la mesure de ca et son incertitude associée.\n",
    "</div>\n",
    "<details>\n",
    "<summary>Aide_1</summary>\n",
    "<p>Il faut calculer ca à partir des valeurs énoncées au début.</p>\n",
    "</details>\n",
    "\n",
    "<details>\n",
    "<summary>Aide_2</summary>\n",
    "<p>ca=cb[0]*VE[0]/Va[0] (ou mettre les valeurs) puis faire afficher uca déja calculé précedemment</p>\n",
    "</details>"
   ]
  },
  {
   "cell_type": "code",
   "execution_count": null,
   "metadata": {},
   "outputs": [],
   "source": []
  },
  {
   "cell_type": "markdown",
   "metadata": {},
   "source": [
    "<div class=\"alert alert-warning\">\n",
    "<b>Travail à faire : </b>  Vous pouvez bien sûr maintenant améliorer les codes, notamment sur les arondis et les chiffres signficatifs. \n",
    "A vous de jouer maintenant que vous avez compris la méthode Monte Carlo.\n",
    "</div>"
   ]
  },
  {
   "cell_type": "code",
   "execution_count": null,
   "metadata": {},
   "outputs": [],
   "source": []
  }
 ],
 "metadata": {
  "colab": {
   "collapsed_sections": [],
   "name": "Methode Monte Carlo.ipynb",
   "provenance": []
  },
  "kernelspec": {
   "display_name": "Python 3",
   "language": "python",
   "name": "python3"
  },
  "language_info": {
   "codemirror_mode": {
    "name": "ipython",
    "version": 3
   },
   "file_extension": ".py",
   "mimetype": "text/x-python",
   "name": "python",
   "nbconvert_exporter": "python",
   "pygments_lexer": "ipython3",
   "version": "3.7.4"
  }
 },
 "nbformat": 4,
 "nbformat_minor": 1
}
